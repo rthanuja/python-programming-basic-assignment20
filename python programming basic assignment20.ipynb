{
 "cells": [
  {
   "cell_type": "code",
   "execution_count": 1,
   "id": "e25af0f7",
   "metadata": {},
   "outputs": [],
   "source": [
    "'''1.Create a function that takes a list of strings and integers, and filters out the list so that it returns a list of \n",
    "integers only.'''\n",
    "def filterlist(l):\n",
    "    for i in range(len(l)-1,-1,-1):\n",
    "        if type(l[i])==int:\n",
    "            continue\n",
    "        else:\n",
    "            l.pop(i)\n",
    "    return l"
   ]
  },
  {
   "cell_type": "code",
   "execution_count": 2,
   "id": "63c3dd9e",
   "metadata": {},
   "outputs": [
    {
     "data": {
      "text/plain": [
       "[1, 2, 3, 4]"
      ]
     },
     "execution_count": 2,
     "metadata": {},
     "output_type": "execute_result"
    }
   ],
   "source": [
    "filterlist([1, 2, 3,\"a\",\"b\", 4])"
   ]
  },
  {
   "cell_type": "code",
   "execution_count": 3,
   "id": "01f50a07",
   "metadata": {},
   "outputs": [
    {
     "data": {
      "text/plain": [
       "[0, 1729]"
      ]
     },
     "execution_count": 3,
     "metadata": {},
     "output_type": "execute_result"
    }
   ],
   "source": [
    "filterlist([\"A\",0,\"Edabit\",1729,\"Python\",\"1729\"])"
   ]
  },
  {
   "cell_type": "code",
   "execution_count": 4,
   "id": "1b74762e",
   "metadata": {},
   "outputs": [
    {
     "data": {
      "text/plain": [
       "[]"
      ]
     },
     "execution_count": 4,
     "metadata": {},
     "output_type": "execute_result"
    }
   ],
   "source": [
    "filterlist([\"Nothing\",\"here\"])"
   ]
  },
  {
   "cell_type": "code",
   "execution_count": 5,
   "id": "68d3fb86",
   "metadata": {},
   "outputs": [],
   "source": [
    "'''2.Given a list of numbers, create a function which returns the list but with each element's index in the list added to\n",
    "itself. This means you add 0 to the number at index 0, add 1 to the number at index 1, etc...'''\n",
    "def addindexes(l):\n",
    "    for i in range(len(l)):\n",
    "        l[i]+=i\n",
    "    return l"
   ]
  },
  {
   "cell_type": "code",
   "execution_count": 6,
   "id": "ebf52b9c",
   "metadata": {},
   "outputs": [
    {
     "data": {
      "text/plain": [
       "[0, 1, 2, 3, 4]"
      ]
     },
     "execution_count": 6,
     "metadata": {},
     "output_type": "execute_result"
    }
   ],
   "source": [
    "addindexes([0,0,0,0,0])"
   ]
  },
  {
   "cell_type": "code",
   "execution_count": 7,
   "id": "4f4c2b46",
   "metadata": {},
   "outputs": [
    {
     "data": {
      "text/plain": [
       "[1, 3, 5, 7, 9]"
      ]
     },
     "execution_count": 7,
     "metadata": {},
     "output_type": "execute_result"
    }
   ],
   "source": [
    "addindexes([1,2,3,4,5])"
   ]
  },
  {
   "cell_type": "code",
   "execution_count": 8,
   "id": "9999edae",
   "metadata": {},
   "outputs": [
    {
     "data": {
      "text/plain": [
       "[5, 5, 5, 5, 5]"
      ]
     },
     "execution_count": 8,
     "metadata": {},
     "output_type": "execute_result"
    }
   ],
   "source": [
    "addindexes([5,4,3,2,1])"
   ]
  },
  {
   "cell_type": "code",
   "execution_count": 9,
   "id": "d3fc691c",
   "metadata": {},
   "outputs": [],
   "source": [
    "'''3.Create a function that takes the height and radius of a cone as arguments and returns the volume of the cone rounded to \n",
    "the nearest hundredth. See the resources tab for the formula.'''\n",
    "def conevolume(h,r):\n",
    "    v=(22*r**2*h)/(3*7)\n",
    "    return round(v,2)\n"
   ]
  },
  {
   "cell_type": "code",
   "execution_count": 10,
   "id": "f0339fa4",
   "metadata": {},
   "outputs": [
    {
     "data": {
      "text/plain": [
       "12.57"
      ]
     },
     "execution_count": 10,
     "metadata": {},
     "output_type": "execute_result"
    }
   ],
   "source": [
    "conevolume(3,2)"
   ]
  },
  {
   "cell_type": "code",
   "execution_count": 11,
   "id": "fce3a7bf",
   "metadata": {},
   "outputs": [
    {
     "data": {
      "text/plain": [
       "565.71"
      ]
     },
     "execution_count": 11,
     "metadata": {},
     "output_type": "execute_result"
    }
   ],
   "source": [
    "conevolume(15,6)"
   ]
  },
  {
   "cell_type": "code",
   "execution_count": 12,
   "id": "f45ae566",
   "metadata": {},
   "outputs": [
    {
     "data": {
      "text/plain": [
       "0.0"
      ]
     },
     "execution_count": 12,
     "metadata": {},
     "output_type": "execute_result"
    }
   ],
   "source": [
    "conevolume(18,0)"
   ]
  },
  {
   "cell_type": "code",
   "execution_count": 13,
   "id": "7635694b",
   "metadata": {},
   "outputs": [],
   "source": [
    "'''This Triangular Number Sequence is generated from a pattern of dots that form a triangle.The first 5 numbers of the sequence,\n",
    "or dots, are:1, 3, 6, 10, 15 This means that the first triangle has just one dot, the second one has three dots, the third one\n",
    "has 6 dots and so on.Write a function that gives the number of dots with its corresponding triangle number of the sequence.'''\n",
    "def triangle(n):\n",
    "    t=(n*(n+1))//2\n",
    "    return t"
   ]
  },
  {
   "cell_type": "code",
   "execution_count": 14,
   "id": "dc41d1ca",
   "metadata": {},
   "outputs": [
    {
     "data": {
      "text/plain": [
       "1"
      ]
     },
     "execution_count": 14,
     "metadata": {},
     "output_type": "execute_result"
    }
   ],
   "source": [
    "triangle(1)"
   ]
  },
  {
   "cell_type": "code",
   "execution_count": 15,
   "id": "7e224e86",
   "metadata": {},
   "outputs": [
    {
     "data": {
      "text/plain": [
       "21"
      ]
     },
     "execution_count": 15,
     "metadata": {},
     "output_type": "execute_result"
    }
   ],
   "source": [
    "triangle(6)"
   ]
  },
  {
   "cell_type": "code",
   "execution_count": 20,
   "id": "fa04c2db",
   "metadata": {},
   "outputs": [
    {
     "data": {
      "text/plain": [
       "23220"
      ]
     },
     "execution_count": 20,
     "metadata": {},
     "output_type": "execute_result"
    }
   ],
   "source": [
    "triangle(215)"
   ]
  },
  {
   "cell_type": "code",
   "execution_count": 16,
   "id": "76a7c2b6",
   "metadata": {},
   "outputs": [],
   "source": [
    "'''Create a function that takes a list of numbers between 1 and 10 (excluding one number) and returns the missing number.'''\n",
    "def missingnum(l):\n",
    "    n=list(range(1,11))\n",
    "    for i in n:\n",
    "        if i not in l:\n",
    "            return i\n",
    "        else:\n",
    "            continue\n",
    "            "
   ]
  },
  {
   "cell_type": "code",
   "execution_count": 17,
   "id": "7b0df393",
   "metadata": {},
   "outputs": [
    {
     "data": {
      "text/plain": [
       "5"
      ]
     },
     "execution_count": 17,
     "metadata": {},
     "output_type": "execute_result"
    }
   ],
   "source": [
    "missingnum([1,2,3,4,6,7,8,9,10])"
   ]
  },
  {
   "cell_type": "code",
   "execution_count": 18,
   "id": "50d06204",
   "metadata": {},
   "outputs": [
    {
     "data": {
      "text/plain": [
       "10"
      ]
     },
     "execution_count": 18,
     "metadata": {},
     "output_type": "execute_result"
    }
   ],
   "source": [
    "missingnum([7,2,3,6,5,9,1,4,8])"
   ]
  },
  {
   "cell_type": "code",
   "execution_count": 19,
   "id": "3ab78f88",
   "metadata": {},
   "outputs": [
    {
     "data": {
      "text/plain": [
       "7"
      ]
     },
     "execution_count": 19,
     "metadata": {},
     "output_type": "execute_result"
    }
   ],
   "source": [
    "missingnum([10,5,1,2,4,6,8,3,9])"
   ]
  }
 ],
 "metadata": {
  "kernelspec": {
   "display_name": "Python 3 (ipykernel)",
   "language": "python",
   "name": "python3"
  },
  "language_info": {
   "codemirror_mode": {
    "name": "ipython",
    "version": 3
   },
   "file_extension": ".py",
   "mimetype": "text/x-python",
   "name": "python",
   "nbconvert_exporter": "python",
   "pygments_lexer": "ipython3",
   "version": "3.10.9"
  }
 },
 "nbformat": 4,
 "nbformat_minor": 5
}
